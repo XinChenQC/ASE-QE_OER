{
 "cells": [
  {
   "cell_type": "code",
   "execution_count": 87,
   "id": "1a2a88d5-374b-42ce-b934-ffe1372cf274",
   "metadata": {},
   "outputs": [],
   "source": [
    "import numpy as np\n",
    "import matplotlib.pyplot as plt\n",
    "from ase.io import read,write\n",
    "from ase import Atoms\n",
    "from ase.build import mx2, molecule\n",
    "from ase.constraints import FixAtoms\n",
    "from ase.visualize import view\n",
    "from ase.calculators.espresso import Espresso, EspressoProfile\n",
    "from ase.io.espresso import read_espresso_out\n",
    "from ase.optimize import QuasiNewton\n",
    "from ase.visualize import view\n",
    "\n",
    "import time\n",
    "from ase.units import Bohr,Rydberg,kJ,kB,fs,Hartree,mol,kcal,eV\n",
    "\n",
    "from copy import deepcopy"
   ]
  },
  {
   "cell_type": "code",
   "execution_count": 2,
   "id": "cd48b2c1-7982-4cbd-9b7f-e16beed43711",
   "metadata": {},
   "outputs": [],
   "source": [
    "# Source all important path for LIB and excutable path.\n",
    "import os\n",
    "os.environ['LD_LIBRARY_PATH'] =\"/opt/packages/oneapi/v2023.2.0/mkl/2023.2.0/lib/intel64:/opt/packages/oneapi/v2023.2.0/compiler/2023.2.1/linux/lib:/opt/packages/oneapi/v2023.2.0/compiler/2023.2.1/linux/lib/x64:/opt/packages/oneapi/v2023.2.0/compiler/2023.2.1/linux/compiler/lib/intel64_lin:/opt/packages/oneapi/v2023.2.0/tbb/2021.10.0/lib/intel64/gcc4.8:/opt/packages/oneapi/v2023.2.0/mpi/2021.10.0/libfabric/lib:/opt/packages/oneapi/v2023.2.0/mpi/2021.10.0/lib/release:/opt/packages/oneapi/v2023.2.0/mpi/2021.10.0/lib\"\n",
    "os.environ['PATH'] =\"/opt/packages/oneapi/v2023.2.0/mpi/2021.10.0/libfabric/bin:/opt/packages/oneapi/v2023.2.0/mpi/2021.10.0/bin:/opt/packages/psc.allocations.user/bin:/opt/packages/allocations/bin:/usr/local/bin:/usr/bin:/usr/local/sbin:/usr/sbin:/opt/packages/interact/bin:/opt/puppetlabs/bin:/ocean/projects/che240027p/shared/software/Team_BSU_Soft/q-e/bin\"\n"
   ]
  },
  {
   "cell_type": "code",
   "execution_count": 3,
   "id": "a340aebe-3437-4a84-bdd2-fca4661b21ca",
   "metadata": {},
   "outputs": [
    {
     "name": "stderr",
     "output_type": "stream",
     "text": [
      "/ocean/projects/che240027p/shared/software/Team_BSU_Soft/qms2024-BSU/lib/python3.8/site-packages/ase/io/cif.py:408: UserWarning: crystal system 'tetragonal' is not interpreted for space group Spacegroup(136, setting=1). This may result in wrong setting!\n",
      "  warnings.warn(\n"
     ]
    },
    {
     "data": {
      "text/html": [
       "<html>\n",
       "    <head>\n",
       "        <title>ASE atomic visualization</title>\n",
       "        <link rel=\"stylesheet\" type=\"text/css\"             href=\"https://www.x3dom.org/release/x3dom.css\"></link>\n",
       "        <script type=\"text/javascript\"             src=\"https://www.x3dom.org/release/x3dom.js\"></script>\n",
       "    </head>\n",
       "    <body>\n",
       "        <X3D width=\"400px\"; height=\"300px\";>\n",
       "\n",
       "<!--Inserting Generated X3D Scene-->\n",
       "<scene>\n",
       "  <viewpoint position=\"0 0 8.9936\">\n",
       "    <group/>\n",
       "  </viewpoint>\n",
       "  <transform translation=\"-2.2484 -2.2484 -1.55245\">\n",
       "    <group>\n",
       "      <group>\n",
       "        <transform translation=\"0 0 0\">\n",
       "          <shape>\n",
       "            <appearance>\n",
       "              <material diffuseColor=\"0 0 0\"/>\n",
       "            </appearance>\n",
       "            <lineset vertexCount=\"5\">\n",
       "              <coordinate point=\"0 0 0 4.4968 0.0 0.0 4.4968 4.4968 0.0 0.0 4.4968 0.0 0 0 0\"/>\n",
       "            </lineset>\n",
       "          </shape>\n",
       "        </transform>\n",
       "        <transform translation=\"0.0 0.0 3.1049\">\n",
       "          <shape>\n",
       "            <appearance>\n",
       "              <material diffuseColor=\"0 0 0\"/>\n",
       "            </appearance>\n",
       "            <lineset vertexCount=\"5\">\n",
       "              <coordinate point=\"0 0 0 4.4968 0.0 0.0 4.4968 4.4968 0.0 0.0 4.4968 0.0 0 0 0\"/>\n",
       "            </lineset>\n",
       "          </shape>\n",
       "        </transform>\n",
       "        <transform translation=\"0 0 0\">\n",
       "          <shape>\n",
       "            <appearance>\n",
       "              <material diffuseColor=\"0 0 0\"/>\n",
       "            </appearance>\n",
       "            <lineset vertexCount=\"5\">\n",
       "              <coordinate point=\"0 0 0 4.4968 0.0 0.0 4.4968 0.0 3.1049 0.0 0.0 3.1049 0 0 0\"/>\n",
       "            </lineset>\n",
       "          </shape>\n",
       "        </transform>\n",
       "        <transform translation=\"0.0 4.4968 0.0\">\n",
       "          <shape>\n",
       "            <appearance>\n",
       "              <material diffuseColor=\"0 0 0\"/>\n",
       "            </appearance>\n",
       "            <lineset vertexCount=\"5\">\n",
       "              <coordinate point=\"0 0 0 4.4968 0.0 0.0 4.4968 0.0 3.1049 0.0 0.0 3.1049 0 0 0\"/>\n",
       "            </lineset>\n",
       "          </shape>\n",
       "        </transform>\n",
       "      </group>\n",
       "      <group>\n",
       "        <transform translation=\"0.0 0.0 0.0\">\n",
       "          <shape>\n",
       "            <appearance>\n",
       "              <material diffuseColor=\"0.141 0.561 0.561\"/>\n",
       "            </appearance>\n",
       "            <sphere radius=\"1.46\"/>\n",
       "          </shape>\n",
       "        </transform>\n",
       "        <transform translation=\"2.2484 2.2484 1.55245\">\n",
       "          <shape>\n",
       "            <appearance>\n",
       "              <material diffuseColor=\"0.141 0.561 0.561\"/>\n",
       "            </appearance>\n",
       "            <sphere radius=\"1.46\"/>\n",
       "          </shape>\n",
       "        </transform>\n",
       "        <transform translation=\"1.3728730400000002 1.3728730400000002 0.0\">\n",
       "          <shape>\n",
       "            <appearance>\n",
       "              <material diffuseColor=\"1.0 0.051 0.051\"/>\n",
       "            </appearance>\n",
       "            <sphere radius=\"0.66\"/>\n",
       "          </shape>\n",
       "        </transform>\n",
       "        <transform translation=\"3.1239269600000004 3.1239269600000004 0.0\">\n",
       "          <shape>\n",
       "            <appearance>\n",
       "              <material diffuseColor=\"1.0 0.051 0.051\"/>\n",
       "            </appearance>\n",
       "            <sphere radius=\"0.66\"/>\n",
       "          </shape>\n",
       "        </transform>\n",
       "        <transform translation=\"3.62127304 0.87552696 1.55245\">\n",
       "          <shape>\n",
       "            <appearance>\n",
       "              <material diffuseColor=\"1.0 0.051 0.051\"/>\n",
       "            </appearance>\n",
       "            <sphere radius=\"0.66\"/>\n",
       "          </shape>\n",
       "        </transform>\n",
       "        <transform translation=\"0.87552696 3.62127304 1.55245\">\n",
       "          <shape>\n",
       "            <appearance>\n",
       "              <material diffuseColor=\"1.0 0.051 0.051\"/>\n",
       "            </appearance>\n",
       "            <sphere radius=\"0.66\"/>\n",
       "          </shape>\n",
       "        </transform>\n",
       "      </group>\n",
       "    </group>\n",
       "  </transform>\n",
       "</scene>\n",
       "<!--End of Inserted Scene-->\n",
       "\n",
       "        </X3D>\n",
       "    </body>\n",
       "</html>\n",
       "\n"
      ],
      "text/plain": [
       "<IPython.core.display.HTML object>"
      ]
     },
     "execution_count": 3,
     "metadata": {},
     "output_type": "execute_result"
    }
   ],
   "source": [
    "## Load the crystal structure (Crystallography Open Database) from local file\n",
    "RuO2_bulk = read(\"./structure/RuO2.cif\")\n",
    "view(RuO2_bulk, viewer=\"x3d\")"
   ]
  },
  {
   "cell_type": "code",
   "execution_count": 4,
   "id": "012d25f0-762b-4825-84b1-2aa4757c04f4",
   "metadata": {},
   "outputs": [],
   "source": [
    "# Define basic commands and pseudodir\n",
    "runprefix = \"mpirun -np 32 \"\n",
    "qepath = \" \"\n",
    "pseudodir = \"./pseudos\"\n",
    "\n",
    "# Optionally create profile to override paths in ASE configuration:\n",
    "profile = EspressoProfile(\n",
    "    command=runprefix+qepath+'pw.x', pseudo_dir=pseudodir\n",
    ")"
   ]
  },
  {
   "cell_type": "code",
   "execution_count": 5,
   "id": "2dece796-3022-4110-9d97-7001e7507f3b",
   "metadata": {},
   "outputs": [
    {
     "name": "stdout",
     "output_type": "stream",
     "text": [
      "--2024-06-27 15:22:49--  https://www.physics.rutgers.edu/gbrv/ru_pbesol_v1.2.uspp.F.UPF\n",
      "Resolving www.physics.rutgers.edu (www.physics.rutgers.edu)... 165.230.19.181\n",
      "Connecting to www.physics.rutgers.edu (www.physics.rutgers.edu)|165.230.19.181|:443... connected.\n",
      "HTTP request sent, awaiting response... 200 OK\n",
      "Length: 680601 (665K)\n",
      "Saving to: ‘ru_pbesol_v1.2.uspp.F.UPF’\n",
      "\n",
      "ru_pbesol_v1.2.uspp 100%[===================>] 664.65K  --.-KB/s    in 0.06s   \n",
      "\n",
      "2024-06-27 15:22:49 (11.2 MB/s) - ‘ru_pbesol_v1.2.uspp.F.UPF’ saved [680601/680601]\n",
      "\n",
      "--2024-06-27 15:22:49--  https://www.physics.rutgers.edu/gbrv/o_pbesol_v1.2.uspp.F.UPF\n",
      "Resolving www.physics.rutgers.edu (www.physics.rutgers.edu)... 165.230.19.181\n",
      "Connecting to www.physics.rutgers.edu (www.physics.rutgers.edu)|165.230.19.181|:443... connected.\n",
      "HTTP request sent, awaiting response... 200 OK\n",
      "Length: 376736 (368K)\n",
      "Saving to: ‘o_pbesol_v1.2.uspp.F.UPF’\n",
      "\n",
      "o_pbesol_v1.2.uspp. 100%[===================>] 367.91K  --.-KB/s    in 0.05s   \n",
      "\n",
      "2024-06-27 15:22:50 (7.92 MB/s) - ‘o_pbesol_v1.2.uspp.F.UPF’ saved [376736/376736]\n",
      "\n"
     ]
    }
   ],
   "source": [
    "# Download the pseudopotentials for Ru and O\n",
    "!wget https://www.physics.rutgers.edu/gbrv/ru_pbesol_v1.2.uspp.F.UPF\n",
    "!wget https://www.physics.rutgers.edu/gbrv/o_pbesol_v1.2.uspp.F.UPF\n",
    "!mv *.F.UPF pseudos\n",
    "\n",
    "pseudopotentials = {\n",
    "    \"O\":\"o_pbesol_v1.2.uspp.F.UPF\",\n",
    "    \"Ru\":\"ru_pbesol_v1.2.uspp.F.UPF\"\n",
    "}"
   ]
  },
  {
   "cell_type": "markdown",
   "id": "5472a1d5-ca01-45d6-abfc-897a58020fcc",
   "metadata": {
    "jp-MarkdownHeadingCollapsed": true,
    "tags": []
   },
   "source": [
    "## Optimized K-points\n",
    "\n",
    "Here the convergence of K-points are tested. Currently Ecut_wfc = 50, Ecut_rho = 400"
   ]
  },
  {
   "cell_type": "code",
   "execution_count": 14,
   "id": "642b6bb6-de8f-40a9-b7eb-f4e7dc139b6b",
   "metadata": {},
   "outputs": [],
   "source": [
    "Ecut_wfc = 50\n",
    "Ecut_rho = Ecut_wfc*8\n",
    "K_num = 1\n",
    "input_data = {\n",
    "    'control': {\n",
    "        'restart_mode': 'from_scratch',\n",
    "        'pseudo_dir': './pseudos',\n",
    "        'calculation': 'scf',\n",
    "        'prefix': 'RuO2'\n",
    "    },\n",
    "    'system': {\n",
    "        'ecutwfc': Ecut_wfc,\n",
    "        'ecutrho': Ecut_rho,\n",
    "        'occupations':'smearing',\n",
    "        'smearing':'gauss',\n",
    "        'degauss': 0.01,\n",
    "        'nspin': 2,\n",
    "        'starting_magnetization(2)' : 0.5\n",
    "    },\n",
    "    'electrons': {\n",
    "        'conv_thr': 1.0e-8, \n",
    "        'mixing_beta': 0.7\n",
    "    },\n",
    "} \n",
    "\n",
    "\n"
   ]
  },
  {
   "cell_type": "code",
   "execution_count": 15,
   "id": "a35284eb-1c8a-4496-aaff-4a199d12521e",
   "metadata": {},
   "outputs": [
    {
     "name": "stdout",
     "output_type": "stream",
     "text": [
      "1: -7036.61596064\n",
      "2: -7038.62906208\n",
      "4: -7038.32100472\n",
      "8: -7038.31158156\n",
      "16: -7038.31142958\n",
      "18: -7038.31145911\n",
      "20: -7038.31143951\n",
      "24: -7038.31144509\n"
     ]
    }
   ],
   "source": [
    "# K points = 1,2,4,8,16,18,20,24\n",
    "K_conv = []\n",
    "for k in [1,2,4,8,16,18,20,24]:\n",
    "    # Update the k value in calculator\n",
    "    calc = Espresso(\n",
    "        profile=profile,\n",
    "        pseudopotentials=pseudopotentials,\n",
    "        tstress=True,  # deprecated, put in input_data\n",
    "        tprnfor=True,  # deprecated, put in input_data\n",
    "        input_data=input_data,\n",
    "        kpts=(k,k,k),\n",
    "        koffset=(0,0,0))\n",
    "    \n",
    "    \n",
    "    RuO2_bulk.calc = deepcopy(calc)\n",
    "    \n",
    "    eRuO2_bulk = RuO2_bulk.get_potential_energy()\n",
    "    K_conv.append([k, eRuO2_bulk])\n",
    "    if os.path.isfile(\"espresso.pwo\"): os.remove(\"espresso.pwo\")\n",
    "    print(f'{k}: {eRuO2_bulk:.8f}')"
   ]
  },
  {
   "cell_type": "code",
   "execution_count": 17,
   "id": "676d038c-50e1-481d-844e-90d3ad0c7bda",
   "metadata": {},
   "outputs": [
    {
     "data": {
      "text/plain": [
       "<matplotlib.legend.Legend at 0x146cd8e47310>"
      ]
     },
     "execution_count": 17,
     "metadata": {},
     "output_type": "execute_result"
    },
    {
     "data": {
      "image/png": "[encoded data removed]",
      "text/plain": [
       "<Figure size 1000x600 with 1 Axes>"
      ]
     },
     "metadata": {},
     "output_type": "display_data"
    }
   ],
   "source": [
    "K_conv = np.array(K_conv)\n",
    "# Create a figure and a set of subplots\n",
    "fig, ax = plt.subplots( figsize=(10, 6))\n",
    "\n",
    "# Plot sine wave\n",
    "ax.plot(K_conv[:,0], (K_conv[:,1]-K_conv[-1,1])*mol/kcal,'-s', label='K-test', color='blue')\n",
    "\n",
    "ax.hlines(1,xmin=-1,xmax=30)\n",
    "ax.set_xlim(0,30)\n",
    "ax.set_title('K-point test')\n",
    "ax.set_xlabel('K')\n",
    "ax.set_ylabel('E (kcal/mol)')\n",
    "ax.legend()"
   ]
  },
  {
   "cell_type": "markdown",
   "id": "25e74393-8f07-4d87-857d-e640fa5f1ff3",
   "metadata": {},
   "source": [
    "K-points (4,4,4) is good. "
   ]
  },
  {
   "cell_type": "markdown",
   "id": "2a68e087-86bc-4fdb-a2e1-7e1ad954e745",
   "metadata": {
    "jp-MarkdownHeadingCollapsed": true,
    "tags": []
   },
   "source": [
    "## Optimize the Ecut_wfc with (Ecut_rho = Ecut_wfc*8)"
   ]
  },
  {
   "cell_type": "code",
   "execution_count": 9,
   "id": "f639fdcc-77c7-4c93-8f11-eadfc383be23",
   "metadata": {},
   "outputs": [
    {
     "name": "stdout",
     "output_type": "stream",
     "text": [
      "20: -7011.05568545\n",
      "25: -7032.91024948\n",
      "30: -7037.56432730\n",
      "35: -7038.22458336\n",
      "40: -7038.28885393\n",
      "45: -7038.30336685\n",
      "50: -7038.32100472\n",
      "55: -7038.33684624\n",
      "60: -7038.34679540\n",
      "70: -7038.35244081\n",
      "80: -7038.35852555\n",
      "90: -7038.36928248\n",
      "100: -7038.37577280\n"
     ]
    }
   ],
   "source": [
    "input_data = {\n",
    "    'control': {\n",
    "        'restart_mode': 'from_scratch',\n",
    "        'pseudo_dir': './pseudos',\n",
    "        'calculation': 'scf',\n",
    "        'prefix': 'RuO2'\n",
    "    },\n",
    "    'system': {\n",
    "        'ecutwfc': 50,\n",
    "        'ecutrho': 400,\n",
    "        'occupations':'smearing',\n",
    "        'smearing':'gauss',\n",
    "        'degauss': 0.01,\n",
    "        'nspin': 2,\n",
    "        'starting_magnetization(2)' : 0.5\n",
    "\n",
    "    },\n",
    "    'electrons': {\n",
    "        'conv_thr': 1.0e-8, \n",
    "        'mixing_beta': 0.7\n",
    "    },\n",
    "}\n",
    "\n",
    "\n",
    "E_wfc2 =[] \n",
    "for Ecut_wfc in [20,25,30,35,40,45,50,55,60,70,80,90,100]:\n",
    "    \n",
    "    input_data['system']['ecutwfc'] = Ecut_wfc\n",
    "    input_data['system']['ecutrho'] = Ecut_wfc*8\n",
    "    calc = Espresso(\n",
    "        profile=profile,\n",
    "        pseudopotentials=pseudopotentials,\n",
    "        tstress=True,  # deprecated, put in input_data\n",
    "        tprnfor=True,  # deprecated, put in input_data\n",
    "        input_data=input_data,\n",
    "        kpts=(4,4,4),\n",
    "        koffset=(0,0,0))\n",
    "    \n",
    "    RuO2_bulk.calc = deepcopy(calc)\n",
    "    \n",
    "    \n",
    "    eRuO2_bulk = RuO2_bulk.get_potential_energy()\n",
    "    #if os.path.isfile(\"espresso.pwo\"): os.remove(\"espresso.pwo\")\n",
    "    print(f'{Ecut_wfc}: {eRuO2_bulk:.8f}')\n",
    "    E_wfc2.append([Ecut_wfc,eRuO2_bulk])\n",
    "\n"
   ]
  },
  {
   "cell_type": "code",
   "execution_count": 12,
   "id": "f94b1c45-3d45-40cc-b757-072b37fd411f",
   "metadata": {},
   "outputs": [
    {
     "data": {
      "text/plain": [
       "<matplotlib.legend.Legend at 0x146cd8efc310>"
      ]
     },
     "execution_count": 12,
     "metadata": {},
     "output_type": "execute_result"
    },
    {
     "data": {
      "image/png": "[encoded data removed]",
      "text/plain": [
       "<Figure size 1000x600 with 1 Axes>"
      ]
     },
     "metadata": {},
     "output_type": "display_data"
    }
   ],
   "source": [
    "E_wfc2 = np.array(E_wfc2)\n",
    "#K_conv = np.array(K_conv)\n",
    "# Create a figure and a set of subplots\n",
    "fig, ax = plt.subplots( figsize=(10, 6))\n",
    "\n",
    "# Plot sine wave\n",
    "#ax.plot(E_wfc[:,0], E_wfc[:,1]-E_wfc[-1,1],'-s', label='Ecut-test', color='blue')\n",
    "ax.plot(E_wfc2[:,0], E_wfc2[:,1]/Rydberg,'-s', label='Ecut-test', color='red')\n",
    "\n",
    "\n",
    "ax.set_xlim(20,110)\n",
    "#ax.set_ylim(-1,4)\n",
    "ax.set_title('Cut-off (wfc) test')\n",
    "ax.set_xlabel('Ecut_wfc (Ry)')\n",
    "ax.set_ylabel(r'Total energy (Ry)')\n",
    "ax.legend()"
   ]
  },
  {
   "cell_type": "code",
   "execution_count": 145,
   "id": "eae5c102-8786-40d7-8895-06d80566d12f",
   "metadata": {},
   "outputs": [
    {
     "name": "stdout",
     "output_type": "stream",
     "text": [
      "20.0 -7011.055730072685 6.830022077500416\n",
      "25.0 -7032.910295060395 -5.463641246927409\n",
      "30.0 -7037.56437301102 -1.163519487656231\n",
      "35.0 -7038.224629076734 -0.16506401642868695\n",
      "40.0 -7038.288899644286 -0.016067641887957507\n",
      "45.0 -7038.303412563758 -0.0036282298678997904\n",
      "50.0 -7038.321050302494 -0.004409434684021107\n",
      "55.0 -7038.33689195384 -0.0039604128364771896\n",
      "60.0 -7038.346841116065 -0.00248729055624608\n",
      "70.0 -7038.352486525819 -0.0014113524384811171\n",
      "80.0 -7038.358571263365 -0.0015211843865472474\n",
      "90.0 -7038.369328195522 -0.002689233039291139\n",
      "100.0 -7038.375818382687 -0.0016225467911681335\n"
     ]
    }
   ],
   "source": [
    "for i,j,k in zip(E_wfc2[:,0], E_wfc2[:,1],E_wfc2[:,1]-np.roll(E_wfc2[:,1],1)):\n",
    "    print(i, j, k/4)"
   ]
  },
  {
   "cell_type": "markdown",
   "id": "12f77e46-e739-4b66-837e-ae2a19ca0661",
   "metadata": {
    "jp-MarkdownHeadingCollapsed": true,
    "tags": []
   },
   "source": [
    "## Optimize the Ecut_rho with Ecut_wfc = 40"
   ]
  },
  {
   "cell_type": "code",
   "execution_count": 31,
   "id": "27d77d0d-d06e-466b-b9a0-ed4676b03f54",
   "metadata": {},
   "outputs": [
    {
     "name": "stdout",
     "output_type": "stream",
     "text": [
      "3: -7038.29425199\n",
      "4: -7038.28849351\n",
      "5: -7038.28848943\n",
      "6: -7038.28875080\n",
      "7: -7038.28869678\n",
      "8: -7038.28885393\n",
      "9: -7038.28898631\n",
      "10: -7038.28885924\n",
      "11: -7038.28901543\n",
      "12: -7038.28898740\n",
      "13: -7038.28890822\n"
     ]
    }
   ],
   "source": [
    "input_data = {\n",
    "    'control': {\n",
    "        'restart_mode': 'from_scratch',\n",
    "        'pseudo_dir': './pseudos',\n",
    "        'outdir': 'RuO2_out',\n",
    "        'calculation': 'scf',\n",
    "        'prefix': 'RuO2'\n",
    "    },\n",
    "    'system': {\n",
    "        'ecutwfc': 40,\n",
    "        'ecutrho': 320,\n",
    "        'occupations':'smearing',\n",
    "        'smearing':'gauss',\n",
    "        'degauss': 0.01,\n",
    "        'nspin': 2,\n",
    "        'starting_magnetization(2)' : 0.5\n",
    "    },\n",
    "    'electrons': {\n",
    "        'conv_thr': 1.0e-8, \n",
    "        'mixing_beta': 0.7\n",
    "    },\n",
    "}\n",
    "\n",
    "\n",
    "E_rho =[] \n",
    "Ecut_wfc = 40\n",
    "for alpha in [3,4,5,6,7, 8, 9, 10, 11, 12, 13]:\n",
    "    \n",
    "    input_data['system']['ecutwfc'] = Ecut_wfc\n",
    "    input_data['system']['ecutrho'] = Ecut_wfc*alpha\n",
    "    calc = Espresso(\n",
    "        profile=profile,\n",
    "        pseudopotentials=pseudopotentials,\n",
    "        tstress=True,  # deprecated, put in input_data\n",
    "        tprnfor=True,  # deprecated, put in input_data\n",
    "        input_data=input_data,\n",
    "        kpts=(4,4,4),\n",
    "        koffset=(0,0,0))\n",
    "    \n",
    "    RuO2_bulk.calc = deepcopy(calc)\n",
    "    \n",
    "    \n",
    "    eRuO2_bulk = RuO2_bulk.get_potential_energy()\n",
    "    #if os.path.isfile(\"espresso.pwo\"): os.remove(\"espresso.pwo\")\n",
    "    print(f'{alpha}: {eRuO2_bulk:.8f}')\n",
    "    E_rho.append([alpha,eRuO2_bulk])\n",
    "\n"
   ]
  },
  {
   "cell_type": "code",
   "execution_count": 19,
   "id": "018f49f7-e120-44a4-8ba4-12e5a0715774",
   "metadata": {},
   "outputs": [
    {
     "data": {
      "text/plain": [
       "<matplotlib.legend.Legend at 0x146cd83138e0>"
      ]
     },
     "execution_count": 19,
     "metadata": {},
     "output_type": "execute_result"
    },
    {
     "data": {
      "image/png": "[encoded data removed]",
      "text/plain": [
       "<Figure size 1000x600 with 1 Axes>"
      ]
     },
     "metadata": {},
     "output_type": "display_data"
    }
   ],
   "source": [
    "E_rho = np.array(E_rho)\n",
    "# Create a figure and a set of subplots\n",
    "fig, ax = plt.subplots( figsize=(10, 6))\n",
    "\n",
    "# Plot sine wave\n",
    "ax.plot(E_rho[:,0], E_rho[:,1]/Rydberg,'-s', label='Ecut-test', color='red')\n",
    "\n",
    "#ax._set_offset(0)\n",
    "\n",
    "ax.set_xlim(3,14)\n",
    "#ax.set_ylim(-1,4)\n",
    "ax.set_title('Cut-off (wfc) test')\n",
    "ax.set_xlabel('Ecut_wfc (Ry)')\n",
    "ax.set_ylabel(r'Total energy (Ry)')\n",
    "ax.legend()"
   ]
  },
  {
   "cell_type": "markdown",
   "id": "6d62aa68-ddfa-47ad-b041-bc75d185f070",
   "metadata": {
    "jp-MarkdownHeadingCollapsed": true,
    "tags": []
   },
   "source": [
    "## Hubbard U (Ph.x) Doesn't work"
   ]
  },
  {
   "cell_type": "code",
   "execution_count": 66,
   "id": "67252681-797e-4749-94f9-129ee3866e8b",
   "metadata": {},
   "outputs": [],
   "source": [
    "# Do a SCF calculation\n",
    "\n",
    "input_data = {\n",
    "    'control': {\n",
    "        'restart_mode': 'from_scratch',\n",
    "        'pseudo_dir': './pseudos',\n",
    "        'outdir': 'RuO2_out',\n",
    "        'calculation': 'scf',\n",
    "        'prefix': 'RuO2'\n",
    "    },\n",
    "    'system': {\n",
    "        'ecutwfc': 40,\n",
    "        'ecutrho': 320,\n",
    "        'occupations':'smearing',\n",
    "        'smearing':'gauss',\n",
    "        'degauss': 0.01\n",
    "    },\n",
    "    'electrons': {\n",
    "        'conv_thr': 1.0e-8, \n",
    "        'mixing_beta': 0.7\n",
    "    },\n",
    "}\n",
    "\n",
    "\n",
    "additional_cards = ['HUBBARD (ortho-atomic)', 'U Ru-4d 5.0']\n",
    "\n",
    "write(\n",
    "    'espresso.pwi',\n",
    "    RuO2_bulk,\n",
    "    input_data=input_data,\n",
    "    pseudopotentials=pseudopotentials,\n",
    "    additional_cards=additional_cards,   \n",
    "    tstress=True,  # deprecated, put in input_data\n",
    "    tprnfor=True,  # deprecated, put in input_data\n",
    "    format='espresso-in',    \n",
    "    kpts=(4,4,4),\n",
    "    koffset=(0,0,0)\n",
    ")\n",
    "\n",
    "#eRuO2_bulk = RuO2_bulk.get_potential_energy()"
   ]
  },
  {
   "cell_type": "code",
   "execution_count": 71,
   "id": "0688ed40-81b9-4e84-95d7-03e8fd8b1401",
   "metadata": {},
   "outputs": [],
   "source": [
    "!mpirun -np 32 pw.x <espresso.pwi >espresso.pwo"
   ]
  },
  {
   "cell_type": "code",
   "execution_count": 75,
   "id": "986577a6-d2c2-4ee6-8f11-7073612cb357",
   "metadata": {},
   "outputs": [],
   "source": [
    "# prepare the ph imput file\n",
    "\n",
    "from ase.io.espresso import write_espresso_ph, read_espresso_ph\n",
    "\n",
    "input_data = {\n",
    "  'tr2_ph': 1.0e-12,\n",
    "  'prefix':'RuO2',\n",
    "  'outdir': 'RuO2_out/RuO2.save',\n",
    "  'verbosity': 'high',\n",
    "  'ldisp': True,\n",
    "  'qplot': False,\n",
    "  'nq1': 4,\n",
    "  'nq2' : 4,\n",
    "  'nq3' : 4,\n",
    "  'alpha_mix(1)': 0.1,\n",
    "}\n",
    "qpts = [(0.0, 0.0, 0.0), (0.5, 0.5, 0.5), (0.5, 0.5, 0.0), (0.0, 0.0, 0.5)]\n",
    "fd_ph = open('input_ph.in', \"w+\")\n",
    "write_espresso_ph(fd_ph, input_data,qpts=qpts)\n",
    "fd_ph.close()"
   ]
  },
  {
   "cell_type": "code",
   "execution_count": 78,
   "id": "33ecbe8c-c4d2-4019-9ac0-280dff99948c",
   "metadata": {},
   "outputs": [
    {
     "name": "stdout",
     "output_type": "stream",
     "text": [
      "Abort(1) on node 20 (rank 20 in comm 0): application called MPI_Abort(MPI_COMM_WORLD, 1) - process 20\n",
      "Abort(1) on node 24 (rank 24 in comm 0): application called MPI_Abort(MPI_COMM_WORLD, 1) - process 24\n",
      "Abort(1) on node 28 (rank 28 in comm 0): application called MPI_Abort(MPI_COMM_WORLD, 1) - process 28\n",
      "Abort(1) on node 30 (rank 30 in comm 0): application called MPI_Abort(MPI_COMM_WORLD, 1) - process 30\n",
      "Abort(1) on node 31 (rank 31 in comm 0): application called MPI_Abort(MPI_COMM_WORLD, 1) - process 31\n"
     ]
    }
   ],
   "source": [
    "!mpirun -np 32 hp.x <input_ph.in >ph.out"
   ]
  },
  {
   "cell_type": "markdown",
   "id": "ddfc3e96-2c5c-4d58-b5ab-5a771f8459fc",
   "metadata": {
    "tags": []
   },
   "source": [
    "## U value fit (linear,Kulik)"
   ]
  },
  {
   "cell_type": "code",
   "execution_count": 56,
   "id": "88721526-e9fe-4add-9da7-68f8ad71b90c",
   "metadata": {},
   "outputs": [
    {
     "name": "stdout",
     "output_type": "stream",
     "text": [
      "12.5875 12.5459\n",
      "12.5740 12.5408\n",
      "12.5606 12.5356\n",
      "12.5472 12.5305\n",
      "12.5338 12.5253\n",
      "12.5072 12.5149\n",
      "12.4939 12.5097\n",
      "12.4807 12.5045\n",
      "12.4675 12.4994\n",
      "12.4543 12.4943\n"
     ]
    }
   ],
   "source": [
    "# Do a SCF calculation\n",
    "\n",
    "input_data = {\n",
    "    'control': {\n",
    "        'restart_mode': 'from_scratch',\n",
    "        'pseudo_dir': './pseudos',\n",
    "        'outdir': 'RuO2_out',\n",
    "        'calculation': 'scf',\n",
    "        'prefix': 'RuO2'\n",
    "    },\n",
    "    'system': {\n",
    "        'ecutwfc': 40,\n",
    "        'ecutrho': 320,\n",
    "        'occupations':'smearing',\n",
    "        'smearing':'gauss',\n",
    "        'degauss': 0.01,\n",
    "        'Hubbard_alpha(1)': -0.02\n",
    "    },\n",
    "    'electrons': {\n",
    "        'conv_thr': 1.0e-8, \n",
    "        'mixing_beta': 0.7,\n",
    "        'startingpot':\"file\" \n",
    "    },\n",
    "}\n",
    "\n",
    "additional_cards = ['HUBBARD (ortho-atomic)', 'U Ru-4d 0.000000000001']\n",
    "input_data['system']['Hubbard_alpha(1)'] =  0.00000000000001\n",
    "input_data['control']['prefix'] =  'RuO2_o'\n",
    "\n",
    "write(\n",
    "    'espresso.pwi',\n",
    "    RuO2_bulk,\n",
    "    input_data=input_data,\n",
    "    pseudopotentials=pseudopotentials,\n",
    "    additional_cards=additional_cards,   \n",
    "    tstress=True,  # deprecated, put in input_data\n",
    "    tprnfor=True,  # deprecated, put in input_data\n",
    "    format='espresso-in',    \n",
    "    kpts=(4,4,4),\n",
    "    koffset=(0,0,0)\n",
    ")\n",
    "# Have to be in commandline Computer the 0 alpha\n",
    "\n",
    "run_cmd = f\"mpirun -np 32 pw.x <espresso.pwi > espresso0.pwo\"\n",
    "os.system(run_cmd)\n",
    "\n",
    "Chi_0 =[]\n",
    "Chi_r =[]\n",
    "# Have to be in Scan the alpha for -0.1 to 1\n",
    "Tag = 1\n",
    "for alpha in [-0.1,-0.08,-0.06,-0.04,-0.02, 0.02, 0.04, 0.06, 0.08, 0.1]:\n",
    "    input_data['system']['Hubbard_alpha(1)'] =  alpha\n",
    "    input_data['control']['prefix'] =  f'RuO2_{Tag}'\n",
    "    \n",
    "    # Copy zero alpha to current dir. \n",
    "    os.system(f'cp -rf ./RuO2_out/RuO2_o.save ./RuO2_out/RuO2_{Tag}.save')\n",
    "    write(\n",
    "        'espresso.pwi',\n",
    "        RuO2_bulk,\n",
    "        input_data=input_data,\n",
    "        pseudopotentials=pseudopotentials,\n",
    "        additional_cards=additional_cards,   \n",
    "        tstress=True,  # deprecated, put in input_data\n",
    "        tprnfor=True,  # deprecated, put in input_data\n",
    "        format='espresso-in',    \n",
    "        kpts=(4,4,4),\n",
    "        koffset=(0,0,0)\n",
    "    )\n",
    "    # Have to be in commandline\n",
    "    run_cmd = f\"mpirun -np 32 pw.x <espresso.pwi > espresso{Tag}.pwo\"\n",
    "    #os.system(run_cmd)\n",
    "    \n",
    "    # Read the Occupation\n",
    "    fileOut = open(f\"espresso{Tag}.pwo\",'r').readlines()\n",
    "    matched_strings = [s for s in fileOut if \"Number of occupied Hubbard levels\" in s]\n",
    "    print(matched_strings[1].strip().split()[-1], matched_strings[2].strip().split()[-1])\n",
    "    Chi_0.append([alpha, float(matched_strings[1].strip().split()[-1])])\n",
    "    Chi_r.append([alpha, float(matched_strings[2].strip().split()[-1])])\n",
    "    Tag = Tag+1\n"
   ]
  },
  {
   "cell_type": "code",
   "execution_count": 80,
   "id": "d2f040d8-dfcf-4f47-9576-b5fa7090c175",
   "metadata": {},
   "outputs": [
    {
     "data": {
      "text/plain": [
       "<matplotlib.legend.Legend at 0x1537ec75cac0>"
      ]
     },
     "execution_count": 80,
     "metadata": {},
     "output_type": "execute_result"
    },
    {
     "data": {
      "image/png": "[encoded data removed]",
      "text/plain": [
       "<Figure size 1000x600 with 1 Axes>"
      ]
     },
     "metadata": {},
     "output_type": "display_data"
    }
   ],
   "source": [
    "Chi_0 = np.array(Chi_0)\n",
    "Chi_r = np.array(Chi_r)\n",
    "\n",
    "fig, ax = plt.subplots( figsize=(10, 6))\n",
    "\n",
    "# Plot sine wave\n",
    "ax.plot(Chi_0[:,0], Chi_0[:,1],'-s', label=r'$\\chi_0$', color='red')\n",
    "ax.plot(Chi_r[:,0], Chi_r[:,1],'-s', label=r'$\\chi$', color='blue')\n",
    "\n",
    "m_0, b_0 = np.polyfit(Chi_0[:,0], Chi_0[:,1], 1)\n",
    "m_r, b_r = np.polyfit(Chi_r[:,0], Chi_r[:,1], 1)\n",
    "\n",
    "ax.set_title(f'Final U is {1/m_0-1/m_r:.3f} eV',fontsize=15)\n",
    "ax.set_xlabel('alpha',fontsize=15)\n",
    "ax.set_ylabel(r'Occupations',fontsize=15)\n",
    "ax.legend(fontsize=\"xx-large\")"
   ]
  },
  {
   "cell_type": "markdown",
   "id": "b33be0a2-e624-485f-83e0-ef22408a367e",
   "metadata": {
    "jp-MarkdownHeadingCollapsed": true,
    "tags": []
   },
   "source": [
    "## Optimization"
   ]
  },
  {
   "cell_type": "code",
   "execution_count": 104,
   "id": "9661ca31-0ffe-48dc-a02a-a9d55a4d4c54",
   "metadata": {},
   "outputs": [
    {
     "data": {
      "text/plain": [
       "0"
      ]
     },
     "execution_count": 104,
     "metadata": {},
     "output_type": "execute_result"
    }
   ],
   "source": [
    "# Do a SCF calculation\n",
    "\n",
    "input_data = {\n",
    "    'control': {\n",
    "        'restart_mode': 'from_scratch',\n",
    "        'pseudo_dir': './pseudos',\n",
    "        'outdir': 'RuO2_out',\n",
    "        'calculation': 'vc-relax',\n",
    "        'prefix': 'RuO2_o'\n",
    "    },\n",
    "    'system': {\n",
    "        'ecutwfc': 50,\n",
    "        'ecutrho': 400,\n",
    "        'occupations':'smearing',\n",
    "        'smearing':'gauss',\n",
    "        'degauss': 0.01,\n",
    "        'Hubbard_alpha(1)': -0.02\n",
    "    },\n",
    "    'electrons': {\n",
    "        'conv_thr': 1.0e-8, \n",
    "        'mixing_beta': 0.7,\n",
    "        'startingpot':\"file\" \n",
    "    },\n",
    "}\n",
    "\n",
    "additional_cards = ['HUBBARD (ortho-atomic)', 'U Ru-4d 2.365']\n",
    "\n",
    "write(\n",
    "    'espresso_opt.pwi',\n",
    "    RuO2_bulk,\n",
    "    input_data=input_data,\n",
    "    pseudopotentials=pseudopotentials,\n",
    "    additional_cards=additional_cards,   \n",
    "    tstress=True,  # deprecated, put in input_data\n",
    "    tprnfor=True,  # deprecated, put in input_data\n",
    "    format='espresso-in',    \n",
    "    kpts=(8,8,8),\n",
    "    koffset=(0,0,0)\n",
    ")\n",
    "# Have to be in commandline Computer the 0 alpha\n",
    "\n",
    "run_cmd = f\"mpirun -np 32 pw.x <espresso_opt.pwi > espresso_opt.pwo\"\n",
    "os.system(run_cmd)"
   ]
  },
  {
   "cell_type": "code",
   "execution_count": null,
   "id": "f2af4abd-8277-4982-bb43-c11801b203a5",
   "metadata": {},
   "outputs": [],
   "source": [
    "#Doesn't work \n",
    "\n",
    "#Relaxed_RuO2 = read(\"espresso_opt.pwo\",format='espresso-out')"
   ]
  },
  {
   "cell_type": "code",
   "execution_count": 103,
   "id": "03237024-41b6-41ba-9f55-e00dea0f5f1b",
   "metadata": {},
   "outputs": [
    {
     "name": "stdout",
     "output_type": "stream",
     "text": [
      "[[0.         0.         0.        ]\n",
      " [2.2484     2.2484     1.55245   ]\n",
      " [1.37287304 1.37287304 0.        ]\n",
      " [3.12392696 3.12392696 0.        ]\n",
      " [3.62127304 0.87552696 1.55245   ]\n",
      " [0.87552696 3.62127304 1.55245   ]]\n",
      "Cell([4.4968, 4.4968, 3.1049])\n"
     ]
    }
   ],
   "source": [
    "#OPT results\n",
    "'''\n",
    "CELL_PARAMETERS (angstrom)\n",
    "   4.466042647   0.000000000   0.000000000\n",
    "   0.000000000   4.466042647   0.000000000\n",
    "   0.000000000   0.000000000   3.101366089\n",
    "\n",
    "ATOMIC_POSITIONS (angstrom)\n",
    "Ru               0.0000000000        0.0000000000        0.0000000000\n",
    "Ru               2.2330213233        2.2330213233        1.5506830443\n",
    "O                1.3601491182        1.3601491182        0.0000000000\n",
    "O                3.1058935284        3.1058935284        0.0000000000\n",
    "O                3.5931704414        0.8728722051        1.5506830443\n",
    "O                0.8728722051        3.5931704414        1.5506830443\n",
    "End final coordinates\n",
    "density =      7.14421 g/cm^3\n",
    "Total force =     0.000083     Total SCF correction =     0.000003\n",
    "'''\n",
    "\n",
    "print(RuO2_bulk.positions)\n",
    "print(RuO2_bulk.cell)"
   ]
  },
  {
   "cell_type": "markdown",
   "id": "af33e116-f609-47dd-a401-84bdae281452",
   "metadata": {
    "tags": []
   },
   "source": [
    "# Summary for bulk\n",
    "\n",
    "## Method\n",
    "\n",
    "**Functional**:      PBEsol\n",
    "\n",
    "**Pseudopotential**: o_pbesol_v1.2.uspp, ru_pbesol_v1.2.uspp\n",
    "\n",
    "**k-points**: (8,8,8)\n",
    "\n",
    "**U for Ru-4d**: 2.365 eV\n",
    "\n",
    "**ecut_wfc**: 50 Ry\n",
    "\n",
    "**ecut_rho**: 400 Ry\n",
    "\n",
    "\n",
    "## Relax result\n",
    "\n",
    "**Total force**     0.000083 \n",
    "\n",
    "\n",
    "| Properties   | PBE-Sol(A)             | Exp (A)                    |\n",
    "| --------     | -------                | -------                    |\n",
    "| cell         | [4.466, 4.466, 3.101]  | [4.4968, 4.4968, 3.1049]   |\n",
    "| Ru-Ru        |  3.518                 |  3.538                     |\n",
    "| Ru-O         |  1.924 (1.982)         |  1.941(1.986)              |"
   ]
  },
  {
   "cell_type": "code",
   "execution_count": null,
   "id": "46d35ec4-26a2-4a96-ade6-3950791dc985",
   "metadata": {},
   "outputs": [],
   "source": []
  },
  {
   "cell_type": "code",
   "execution_count": null,
   "id": "e1035eb4-59a8-4b98-aa7e-768516cf61f7",
   "metadata": {},
   "outputs": [],
   "source": []
  }
 ],
 "metadata": {
  "kernelspec": {
   "display_name": "QMS2024-BSU",
   "language": "python",
   "name": "qms2024-bsu"
  },
  "language_info": {
   "codemirror_mode": {
    "name": "ipython",
    "version": 3
   },
   "file_extension": ".py",
   "mimetype": "text/x-python",
   "name": "python",
   "nbconvert_exporter": "python",
   "pygments_lexer": "ipython3",
   "version": "3.8.6"
  }
 },
 "nbformat": 4,
 "nbformat_minor": 5
}
